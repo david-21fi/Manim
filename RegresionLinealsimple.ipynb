{
  "nbformat": 4,
  "nbformat_minor": 0,
  "metadata": {
    "colab": {
      "provenance": [],
      "authorship_tag": "ABX9TyMMUWvV21/F2ee2ceulJ/pT",
      "include_colab_link": true
    },
    "kernelspec": {
      "name": "python3",
      "display_name": "Python 3"
    },
    "language_info": {
      "name": "python"
    }
  },
  "cells": [
    {
      "cell_type": "markdown",
      "metadata": {
        "id": "view-in-github",
        "colab_type": "text"
      },
      "source": [
        "<a href=\"https://colab.research.google.com/github/david-21fi/Manim/blob/main/RegresionLinealsimple.ipynb\" target=\"_parent\"><img src=\"https://colab.research.google.com/assets/colab-badge.svg\" alt=\"Open In Colab\"/></a>"
      ]
    },
    {
      "cell_type": "code",
      "source": [
        "import numpy as np"
      ],
      "metadata": {
        "id": "mtx9LfS0y_OK"
      },
      "execution_count": null,
      "outputs": []
    },
    {
      "cell_type": "code",
      "execution_count": null,
      "metadata": {
        "id": "D03no-YTKwII"
      },
      "outputs": [],
      "source": [
        "%%manim -qm regresionlineal\n",
        "\n",
        "class regresionlineal(Scene):\n",
        "    def construct(self):\n",
        "        titulo = Tex(\"Regresion Lineal\").to_corner(UP)\n",
        "        descripcion = Tex(\"\"\"el objetivo sera determina,\\\\\n",
        "                        la mejor relacion que exiten en los datos\"\"\")\n",
        "        titulo.set_color_by_gradient([BLUE,RED])\n",
        "        self.add(titulo)\n",
        "        #self.add(descripcion)\n",
        "        f_predi = MathTex(\"\\hat{y} = ax+b\").scale(0.5).shift(2*UP+2*RIGHT)\n",
        "        self.add(f_predi)\n",
        "        mini_cuadrados = MathTex(r\"\\sum_{i=1}^{n}(y-(ax+b))^2\").scale(0.5).shift(2*UP+3*LEFT)\n",
        "        sub_plano = Axes(x_range=[-2,10,1],y_range=[-2,10,1]).add_coordinates().to_corner(LEFT)\n",
        "        self.add(sub_plano)\n",
        "        self.add(mini_cuadrados)\n",
        "        self.wait(2)\n",
        "        self.play(FadeOut(sub_plano),run_time=1)\n",
        "        self.wait(2)"
      ]
    },
    {
      "cell_type": "code",
      "source": [
        "np.random.seed(0)"
      ],
      "metadata": {
        "id": "Apr5Y_xXzDTp"
      },
      "execution_count": null,
      "outputs": []
    },
    {
      "cell_type": "code",
      "source": [
        "x =np.random.uniform(0,1,size=4)\n",
        "y = np.random.uniform(0,1,size=4)"
      ],
      "metadata": {
        "id": "hGZMZErtzF7I"
      },
      "execution_count": null,
      "outputs": []
    },
    {
      "cell_type": "code",
      "source": [
        "np.concatenate((x,y),axis=0)"
      ],
      "metadata": {
        "colab": {
          "base_uri": "https://localhost:8080/"
        },
        "id": "GceznJPUzQwg",
        "outputId": "fef35388-760c-405a-cdbc-0b353bdfec4b"
      },
      "execution_count": null,
      "outputs": [
        {
          "output_type": "execute_result",
          "data": {
            "text/plain": [
              "array([0.4236548 , 0.64589411, 0.43758721, 0.891773  , 0.96366276,\n",
              "       0.38344152, 0.79172504, 0.52889492])"
            ]
          },
          "metadata": {},
          "execution_count": 9
        }
      ]
    },
    {
      "cell_type": "code",
      "source": [
        "datos =np.stack((x,y),axis=1)\n",
        "datos"
      ],
      "metadata": {
        "colab": {
          "base_uri": "https://localhost:8080/"
        },
        "id": "IJZ8FPDZ0ouB",
        "outputId": "d4492be5-c651-4287-f3c6-4355f6273501"
      },
      "execution_count": null,
      "outputs": [
        {
          "output_type": "execute_result",
          "data": {
            "text/plain": [
              "array([[0.4236548 , 0.96366276],\n",
              "       [0.64589411, 0.38344152],\n",
              "       [0.43758721, 0.79172504],\n",
              "       [0.891773  , 0.52889492]])"
            ]
          },
          "metadata": {},
          "execution_count": 17
        }
      ]
    },
    {
      "cell_type": "code",
      "source": [
        "for i,j in datos:\n",
        "    print((i,j))\n"
      ],
      "metadata": {
        "colab": {
          "base_uri": "https://localhost:8080/"
        },
        "id": "vsn07gYS1BLe",
        "outputId": "2834a233-82ba-4faa-f6ce-49c0c4fb9602"
      },
      "execution_count": null,
      "outputs": [
        {
          "output_type": "stream",
          "name": "stdout",
          "text": [
            "(0.4236547993389047, 0.9636627605010293)\n",
            "(0.6458941130666561, 0.3834415188257777)\n",
            "(0.4375872112626925, 0.7917250380826646)\n",
            "(0.8917730007820798, 0.5288949197529045)\n"
          ]
        }
      ]
    },
    {
      "cell_type": "code",
      "source": [
        "2*x"
      ],
      "metadata": {
        "colab": {
          "base_uri": "https://localhost:8080/"
        },
        "id": "zPhpJP5p12u1",
        "outputId": "b80c2e68-dabb-430f-ee19-e52133428182"
      },
      "execution_count": null,
      "outputs": [
        {
          "output_type": "execute_result",
          "data": {
            "text/plain": [
              "array([0.8473096 , 1.29178823, 0.87517442, 1.783546  ])"
            ]
          },
          "metadata": {},
          "execution_count": 21
        }
      ]
    },
    {
      "cell_type": "code",
      "source": [
        "%%manim -qm regresionlineal\n",
        "\n",
        "class regresionlineal(Scene):\n",
        "    def construct(self):\n",
        "        titulo = Tex(\"Regresion Lineal\").to_corner(UP)\n",
        "        titulo.set_color_by_gradient([BLUE,RED])\n",
        "        self.add(titulo)\n",
        "        ejes = Axes(x_range=[-5,5,1],\n",
        "                   y_range=[-3,5,1],\n",
        "                   x_length=10,\n",
        "                   y_length=8).add_coordinates().scale(0.5).shift(3*LEFT)\n",
        "        label_x = ejes.get_axis_labels(Tex(\"grasa\").scale(0.4),Tex(\"peso\").scale(0.4))\n",
        "        self.add(ejes,label_x)\n",
        "        ## primer bucle de puntos\n",
        "\n",
        "        x = np.random.uniform(0,3,size=10)\n",
        "        y = np.random.uniform(1,3,size=10)\n",
        "        datos = np.stack((x,y),axis=1)\n",
        "        for i,j in datos:\n",
        "            punto = Dot(color=YELLOW,radius=0.04).move_to(ejes.c2p(i,j))\n",
        "            self.add(punto)\n",
        "        ## la recta\n",
        "        m = ValueTracker(1)\n",
        "        b = ValueTracker(0)\n",
        "        funcion = always_redraw(lambda:ejes.plot(lambda x :m.get_value()*x+b.get_value(),x_range=[-1,4],color=BLUE ))\n",
        "        self.add(funcion)\n",
        "        #self.add(descripcion)\n",
        "        f_predi = MathTex(\"\\hat{y} = ax+b\").scale(1).shift(2*UP+LEFT)\n",
        "        self.add(f_predi)\n",
        "        mini_cuadrados = MathTex(r\"\\sum_{i=1}^{n}(y-(ax+b))^2\").scale(0.1).shift(2*UP+3*LEFT)\n",
        "        sub_plano = Axes(x_range=[-2,10,1],y_range=[-2,10,1]).add_coordinates().to_corner(LEFT)\n",
        "        #self.add(sub_plano)\n",
        "        #self.add(mini_cuadrados)\n",
        "        self.wait(2)\n",
        "        self.play(b.animate.set_value(-1),run_time=2)\n",
        "        self.play(b.animate.set_value(1),run_time=1.3)\n",
        "        self.play(b.animate.set_value(0),m.animate.set_value(0.5),run_time=1.3)\n",
        "        self.play(m.animate.set_value(1),run_time=1.3)\n",
        "        #self.play(FadeOut(sub_plano),run_time=1)\n",
        "        self.wait(2)"
      ],
      "metadata": {
        "id": "g0dGHpXp6JVd"
      },
      "execution_count": null,
      "outputs": []
    },
    {
      "cell_type": "markdown",
      "source": [
        "\n",
        "$\\left\\{(x_i,y_i) \\right\\}_{i=1}^{n}$ ## Conjunto de puntos\n",
        "\n",
        "$\\left\\{(f_j(x))\\right\\}_{j=1}^{m}$ ## conjunto de funciones base\n",
        "\n",
        "$f(x)=\\sum_{i=1}^{m}c_if_j(x)$ ## combinacion lineal\n",
        " $= c_1f_1(x)+c_2f_2(x)+...+c_mf_m(x) $\n",
        "\n",
        "$e_k= y_i - f(x_i)$ ##el Error de cada punto\n",
        "\n",
        "$\\sum_{i=1}^{n}(y_i-(c_ix_i+b_i))^2$"
      ],
      "metadata": {
        "id": "jb2CvSLQLsGN"
      }
    },
    {
      "cell_type": "code",
      "source": [
        "with open(\"\")"
      ],
      "metadata": {
        "id": "2NQRy5duJ5hZ"
      },
      "execution_count": null,
      "outputs": []
    },
    {
      "cell_type": "markdown",
      "source": [
        "## Simulacion de una regesion lineal"
      ],
      "metadata": {
        "id": "FiF9IS6Bfreo"
      }
    },
    {
      "cell_type": "code",
      "source": [
        "import pandas as pd\n",
        "import numpy as np\n",
        "import matplotlib.pyplot as plt\n"
      ],
      "metadata": {
        "id": "3u1e0AnDfbQO"
      },
      "execution_count": null,
      "outputs": []
    },
    {
      "cell_type": "code",
      "source": [
        "x  = np.random.normal(loc=1,scale=1.4 ,size=100)\n",
        "e = np.random.normal(loc=0,scale=1,size=100)"
      ],
      "metadata": {
        "id": "fu6kKjt_f42Y"
      },
      "execution_count": null,
      "outputs": []
    },
    {
      "cell_type": "code",
      "source": [
        "y= 2+x+e\n",
        "y_pred =2+x"
      ],
      "metadata": {
        "id": "b9D_M2F_gFsJ"
      },
      "execution_count": null,
      "outputs": []
    },
    {
      "cell_type": "code",
      "source": [
        "plt.scatter(x,y,color=\"r\")\n",
        "plt.plot(x,y_pred,color=\"k\")\n",
        "plt.show()"
      ],
      "metadata": {
        "colab": {
          "base_uri": "https://localhost:8080/",
          "height": 430
        },
        "id": "Auk8q55Chz_a",
        "outputId": "6c44cf6a-7f3c-40a9-9c29-4757aa8c7e68"
      },
      "execution_count": null,
      "outputs": [
        {
          "output_type": "display_data",
          "data": {
            "text/plain": [
              "<Figure size 640x480 with 1 Axes>"
            ],
            "image/png": "[encoded data removed]"
          },
          "metadata": {}
        }
      ]
    },
    {
      "cell_type": "code",
      "source": [
        "%%manim -ql Matriz\n",
        "class Matriz(Scene):\n",
        "    def construct(self):\n",
        "        a =np.array( MathTex(r\"f_1(x_1) \",\"f_2(x_1) \",\" ... \",\"   f_n(x_1)\").scale(0.7))\n",
        "        b =np.array( MathTex(r\"f_1(x_2) \",\" f_2(x_2) \",\" ... \",\" f_n(x_2)\").scale(0.7))\n",
        "        c = MathTex(r\"f_1(x_n) \",\" f_2(x_n) \",\" ... \",\"f_n(x_n)\").scale(0.7)\n",
        "        g= np.stack((a,b),axis=0)\n",
        "        m0 = MobjectMatrix(g)\n",
        "        self.add(m0)"
      ],
      "metadata": {
        "colab": {
          "base_uri": "https://localhost:8080/"
        },
        "id": "3rJKtoEeh4-c",
        "outputId": "e4c7fa63-6fa6-49c2-9f01-953866a7be36"
      },
      "execution_count": null,
      "outputs": [
        {
          "output_type": "execute_result",
          "data": {
            "text/plain": [
              "8.400868799516275"
            ]
          },
          "metadata": {},
          "execution_count": 15
        }
      ]
    },
    {
      "cell_type": "code",
      "source": [
        "%%manim -qm regresionlineal\n",
        "\n",
        "class regresionlineal(Scene):\n",
        "    def construct(self):\n",
        "        titulo = Tex(\"Regresion Lineal\").to_corner(UP)\n",
        "        titulo.set_color_by_gradient([BLUE,RED])\n",
        "        self.add(titulo)\n",
        "        ejes = Axes(x_range=[-5,5,1],\n",
        "                   y_range=[-3,5,1],\n",
        "                   x_length=10,\n",
        "                   y_length=8).add_coordinates().scale(0.5).shift(3*LEFT)\n",
        "        label_x = ejes.get_axis_labels(Tex(\"grasa\").scale(0.4),Tex(\"peso\").scale(0.4))\n",
        "        self.add(ejes,label_x)\n",
        "        ## primer bucle de puntos\n",
        "\n",
        "        x = np.random.normal(loc=1,scale=1.4,size=100)\n",
        "        e= np.random.normal(0,0.8,size=100)\n",
        "        y = 0.8+x+e\n",
        "        datos = np.stack((x,y),axis=1)\n",
        "        for i,j in datos:\n",
        "            punto = Dot(color=YELLOW,radius=0.04).move_to(ejes.c2p(i,j))\n",
        "            self.add(punto)\n",
        "        ## la recta\n",
        "        m = ValueTracker(1)\n",
        "        b = ValueTracker(0)\n",
        "        funcion = always_redraw(lambda:ejes.plot(lambda x :m.get_value()*x+b.get_value(),x_range=[-1,4],color=BLUE ))\n",
        "        self.add(funcion)\n",
        "        #self.add(descripcion)\n",
        "        f_predi = MathTex(\"\\hat{y} = ax+b\").scale(1).shift(2*UP+LEFT)\n",
        "        self.add(f_predi)\n",
        "        mini_cuadrados = MathTex(r\"\\sum_{i=1}^{n}(y-(ax+b))^2\").scale(0.1).shift(2*UP+3*LEFT)\n",
        "        sub_plano = Axes(x_range=[-2,10,1],y_range=[-2,10,1]).add_coordinates().to_corner(LEFT)\n",
        "        #self.add(sub_plano)\n",
        "        #self.add(mini_cuadrados)\n",
        "        self.wait(2)\n",
        "        self.play(b.animate.set_value(-1),run_time=2)\n",
        "        self.play(b.animate.set_value(1),run_time=1.3)\n",
        "        self.play(b.animate.set_value(0),m.animate.set_value(0.5),run_time=1.3)\n",
        "        self.play(m.animate.set_value(1),run_time=1.3)\n",
        "        #self.play(FadeOut(sub_plano),run_time=1)\n",
        "        self.wait(2)"
      ],
      "metadata": {
        "colab": {
          "base_uri": "https://localhost:8080/",
          "height": 141
        },
        "id": "3JWo8L8ykFOR",
        "outputId": "a338d6c6-40cf-4a18-da1a-164b5fa07feb"
      },
      "execution_count": null,
      "outputs": [
        {
          "output_type": "error",
          "ename": "NameError",
          "evalue": "name 'Math' is not defined",
          "traceback": [
            "\u001b[0;31m---------------------------------------------------------------------------\u001b[0m",
            "\u001b[0;31mNameError\u001b[0m                                 Traceback (most recent call last)",
            "\u001b[0;32m<ipython-input-20-5c4da1a5f402>\u001b[0m in \u001b[0;36m<cell line: 1>\u001b[0;34m()\u001b[0m\n\u001b[0;32m----> 1\u001b[0;31m \u001b[0mp\u001b[0m \u001b[0;34m=\u001b[0m \u001b[0mMath\u001b[0m\u001b[0;34m(\u001b[0m\u001b[0;34mr\"\\2\"\u001b[0m\u001b[0;34m)\u001b[0m\u001b[0;34m\u001b[0m\u001b[0;34m\u001b[0m\u001b[0m\n\u001b[0m",
            "\u001b[0;31mNameError\u001b[0m: name 'Math' is not defined"
          ]
        }
      ]
    },
    {
      "cell_type": "code",
      "source": [
        "%%manim -ql Matriz\n",
        "class Matriz(Scene):\n",
        "    def construct(self):\n",
        "        a = MathTex(r\"f_1(x_1) \",\"f_2(x_1) \",\" ... \",\"   f_n(x_1)\").scale(0.7)\n",
        "        b = MathTex(r\"f_1(x_2) \",\" f_2(x_2) \",\" ... \",\" f_n(x_2)\").scale(0.7)\n",
        "        c = MathTex(r\"f_1(x_n) \",\" f_2(x_n) \",\" ... \",\"f_n(x_n)\").scale(0.7)\n",
        "        #g= np.stack((a,b),axis=0)\n",
        "        # bucle\n",
        "        n = [1,2,\"n\"]\n",
        "        f_1=[]\n",
        "        for i in n:\n",
        "            for j in n:\n",
        "                f_1.append(MathTex(f\"f_{j}(x_{i})\").scale(0.6))\n",
        "        numero = MathTex(len(f_1))\n",
        "        #m0 = MobjectMatrix([[a],[b]],)\n",
        "        m1 = MobjectMatrix([f_1[:3],f_1[3:6],f_1[6:]])\n",
        "        self.add(numero,m1)\n",
        "        return print(\"a\",type(f_1))"
      ],
      "metadata": {
        "id": "S7Of8CWAoEFf"
      },
      "execution_count": null,
      "outputs": []
    }
  ]
}